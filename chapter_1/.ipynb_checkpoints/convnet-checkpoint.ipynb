{
 "cells": [
  {
   "cell_type": "code",
   "execution_count": 1,
   "metadata": {
    "collapsed": false
   },
   "outputs": [
    {
     "name": "stdout",
     "output_type": "stream",
     "text": [
      "WARNING:tensorflow:From D:\\Anaconda\\lib\\site-packages\\tensorflow_core\\python\\compat\\v2_compat.py:65: disable_resource_variables (from tensorflow.python.ops.variable_scope) is deprecated and will be removed in a future version.\n",
      "Instructions for updating:\n",
      "non-resource variables are not supported in the long term\n",
      "['batches.meta', 'data_batch_1', 'data_batch_2', 'data_batch_3', 'data_batch_4', 'data_batch_5', 'readme.html', 'test_batch']\n"
     ]
    }
   ],
   "source": [
    "import tensorflow.compat.v1 as tf\n",
    "tf.disable_v2_behavior()\n",
    "import os\n",
    "import pickle as pk\n",
    "import numpy as np\n",
    "\n",
    "CIFAR_DIR = '../datasets/cifar-10-batches-py'\n",
    "dirs = os.listdir( CIFAR_DIR )\n",
    "print(dirs)"
   ]
  },
  {
   "cell_type": "code",
   "execution_count": null,
   "metadata": {
    "collapsed": false
   },
   "outputs": [],
   "source": [
    "def load_data(filename):\n",
    "    \"\"\"read data from data file\"\"\"\n",
    "    with open(filename,'rb') as f:\n",
    "        data = pk.load(f,encoding='iso-8859-1')\n",
    "        return (data['data'],data['labels'])\n",
    "\n",
    "class CifarData:\n",
    "    def __init__(self,filenames,need_shuffle):\n",
    "        all_data = []\n",
    "        all_labels = []\n",
    "        for filename in filenames:\n",
    "            data ,labels = load_data(filename)\n",
    "            all_data.append(data)\n",
    "            all_labels.append(labels)\n",
    "          \n",
    "        self._data = np.vstack(all_data)\n",
    "        self._data = self._data / 127.5 -1  #归一化\n",
    "        self._labels = np.hstack(all_labels)\n",
    "        print(self._data.shape)\n",
    "        print(self._labels.shape)\n",
    "        self._num_examples = self._data.shape[0]\n",
    "        self._need_shuffle = need_shuffle\n",
    "        self._indicator = 0\n",
    "        if self._need_shuffle:\n",
    "            self._shuffle_data()\n",
    "    \n",
    "    def _shuffle_data(self):\n",
    "        \"\"\"打乱数据集\"\"\"\n",
    "        p = np.random.permutation(self._num_examples)\n",
    "        self._data = self._data[p]\n",
    "        self._lable = self._labels[p]\n",
    "        \n",
    "    def next_batch(self,batch_size):\n",
    "        \"\"\" 随机取batch_size个训练样本  \"\"\"\n",
    "        end_indicator = self._indicator + batch_size\n",
    "        if end_indicator > self._num_examples:\n",
    "            if self._need_shuffle:\n",
    "                self._shuffle_data()\n",
    "                self._indicator = 0\n",
    "                end_indicator = self._indicator + batch_size\n",
    "            else:\n",
    "                raise Exception(\"have no more examples\")\n",
    "        if end_indicator > self._num_examples:\n",
    "            raise Exception(\"batch_size is larger than examples\")\n",
    "            \n",
    "        batch_data = self._data[self._indicator:end_indicator]\n",
    "        batch_lables = self._labels[self._indicator:end_indicator]\n",
    "        self._indicator = end_indicator\n",
    "        return batch_data , batch_lables\n",
    "\n",
    "\n",
    "train_filenames = [os.path.join(CIFAR_DIR,'data_batch_%d' %i) for i in range (1,6)]\n",
    "test_filenames = [os.path.join(CIFAR_DIR,'test_batch')]\n",
    "\n",
    "train_data = CifarData(train_filenames,True)\n",
    "tets_data = CifarData(test_filenames,False)\n"
   ]
  },
  {
   "cell_type": "code",
   "execution_count": 2,
   "metadata": {
    "collapsed": false
   },
   "outputs": [
    {
     "name": "stdout",
     "output_type": "stream",
     "text": [
      "WARNING:tensorflow:From <ipython-input-2-3cf7fba8293e>:17: conv2d (from tensorflow.python.layers.convolutional) is deprecated and will be removed in a future version.\n",
      "Instructions for updating:\n",
      "Use `tf.keras.layers.Conv2D` instead.\n",
      "WARNING:tensorflow:From D:\\Anaconda\\lib\\site-packages\\tensorflow_core\\python\\layers\\convolutional.py:424: Layer.apply (from tensorflow.python.keras.engine.base_layer) is deprecated and will be removed in a future version.\n",
      "Instructions for updating:\n",
      "Please use `layer.__call__` method instead.\n",
      "WARNING:tensorflow:From <ipython-input-2-3cf7fba8293e>:22: max_pooling2d (from tensorflow.python.layers.pooling) is deprecated and will be removed in a future version.\n",
      "Instructions for updating:\n",
      "Use keras.layers.MaxPooling2D instead.\n",
      "WARNING:tensorflow:From <ipython-input-2-3cf7fba8293e>:47: flatten (from tensorflow.python.layers.core) is deprecated and will be removed in a future version.\n",
      "Instructions for updating:\n",
      "Use keras.layers.flatten instead.\n",
      "WARNING:tensorflow:From <ipython-input-2-3cf7fba8293e>:48: dense (from tensorflow.python.layers.core) is deprecated and will be removed in a future version.\n",
      "Instructions for updating:\n",
      "Use keras.layers.Dense instead.\n"
     ]
    }
   ],
   "source": [
    "tf.reset_default_graph()\n",
    "\n",
    "x = tf.placeholder(tf.float32,[None,3072])  #定义一个空的数组\n",
    "y = tf.placeholder(tf.int64,[None])\n",
    "\n",
    "x_image = tf.reshape(x,[-1,3,32,32])\n",
    "x_image = tf.transpose(x_image, perm=[0,2,3,1])\n",
    "\n",
    "#卷积层——>池化层——>全连接层\n",
    "#conv1 神经元图，feature_map,输出图像\n",
    "conv1 = tf.layers.conv2d(x_image,#输入图像\n",
    "                        32, #输出通道数\n",
    "                         (3,3), #卷积和大小\n",
    "                         padding = 'same',\n",
    "                         activation = tf.nn.relu,\n",
    "                         name = 'conv1')\n",
    "\n",
    "#pooling之后图像的大小变为16*16\n",
    "pooling1 = tf.layers.max_pooling2d(conv1,\n",
    "                                  (2,2), #卷积核大小\n",
    "                                  (2,2), #步长\n",
    "                                  name = 'pool1')\n",
    "\n",
    "conv2 = tf.layers.conv2d(pooling1,#输入图像\n",
    "                        32, #输出通道数\n",
    "                         (3,3), #卷积和大小\n",
    "                         padding = 'same',\n",
    "                         activation = tf.nn.relu,\n",
    "                         name = 'conv2')\n",
    "\n",
    "#pooling之后图像的大小变为8*8\n",
    "pooling2 = tf.layers.max_pooling2d(conv2,\n",
    "                                  (2,2), #卷积核大小\n",
    "                                  (2,2), #步长\n",
    "                                  name = 'pool2')\n",
    "conv3 = tf.layers.conv2d(pooling2,#输入图像\n",
    "                        32, #输出通道数\n",
    "                         (3,3), #卷积和大小\n",
    "                         padding = 'same',\n",
    "                         activation = tf.nn.relu,\n",
    "                         name = 'conv3')\n",
    "\n",
    "#pooling之后图像的大小变为4*4\n",
    "pooling3 = tf.layers.max_pooling2d(conv3,\n",
    "                                  (2,2), #卷积核大小\n",
    "                                  (2,2), #步长\n",
    "                                  name = 'pool3')\n",
    "\n",
    "#将4*4*32的矩阵展平API,得到的flatten.shape :[None,4*4*32]\n",
    "flatten = tf.layers.flatten(pooling3)\n",
    "\n",
    "#全连接层的实现\n",
    "y_ = tf.layers.dense(flatten,10)\n",
    "\n",
    "loss = tf.losses.sparse_softmax_cross_entropy(labels =y,logits = y_)\n",
    "predict  = tf.argmax(y_ ,1)\n",
    "correct_predict = tf.equal(predict,y)\n",
    "accuracy = tf.reduce_mean(tf.cast(correct_predict,tf.float32))\n",
    "\n",
    "with tf.name_scope('train_op'): \n",
    "    train_op = tf.train.AdamOptimizer(1e-3).minimize(loss) "
   ]
  },
  {
   "cell_type": "code",
   "execution_count": null,
   "metadata": {
    "collapsed": false
   },
   "outputs": [],
   "source": [
    "init = tf.global_variables_initializer()\n",
    "batch_size = 20\n",
    "train_steps = 1000\n",
    "test_steps = 100\n",
    "with tf.Session() as sess:\n",
    "    sess.run(init)\n",
    "    for i in range(train_steps):\n",
    "        batch_data , batch_labels = train_data.next_batch(batch_size)\n",
    "        loss_val,acc_val,_=sess.run(\n",
    "            [loss,accuracy,train_op],\n",
    "            feed_dict = {x:batch_data,\n",
    "                         y:batch_labels})\n",
    "        if (i+1) % 500  == 0:\n",
    "            print('[Train] Step: %d,Loss:%4.5f,acc:%4.5f'\n",
    "                  %(i+1,loss_val,acc_val))\n",
    "        \n",
    "        if (i+1) % 5000 == 0:\n",
    "            test_data = CifarData(test_filenames,False)\n",
    "            all_test_acc = []\n",
    "            for j in range(test_steps):\n",
    "                test_batch_data , test_batch_labels  = test_data.next_batch(batch_size)\n",
    "                test_acc_val = sess.run([accuracy],feed_dict={x:test_batch_data, y:test_batch_labels})\n",
    "                all_test_acc.append(test_acc_val)\n",
    "            \n",
    "            test_acc = np.mean(all_test_acc)\n",
    "            #print(\"[Test] Step: %d , Acc: %4.5f\" % (i+1,test_acc))\n",
    "                \n",
    "            \n",
    "       \n",
    "        "
   ]
  },
  {
   "cell_type": "code",
   "execution_count": null,
   "metadata": {
    "collapsed": true
   },
   "outputs": [],
   "source": []
  },
  {
   "cell_type": "code",
   "execution_count": null,
   "metadata": {
    "collapsed": true
   },
   "outputs": [],
   "source": []
  }
 ],
 "metadata": {
  "anaconda-cloud": {},
  "kernelspec": {
   "display_name": "Python [conda root]",
   "language": "python",
   "name": "conda-root-py"
  },
  "language_info": {
   "codemirror_mode": {
    "name": "ipython",
    "version": 3
   },
   "file_extension": ".py",
   "mimetype": "text/x-python",
   "name": "python",
   "nbconvert_exporter": "python",
   "pygments_lexer": "ipython3",
   "version": "3.5.2"
  }
 },
 "nbformat": 4,
 "nbformat_minor": 1
}
