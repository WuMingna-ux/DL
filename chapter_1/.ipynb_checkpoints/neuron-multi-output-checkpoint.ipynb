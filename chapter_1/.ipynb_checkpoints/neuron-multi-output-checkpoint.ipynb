{
 "cells": [
  {
   "cell_type": "code",
   "execution_count": 2,
   "metadata": {
    "collapsed": false
   },
   "outputs": [
    {
     "name": "stdout",
     "output_type": "stream",
     "text": [
      "WARNING:tensorflow:From D:\\Anaconda\\lib\\site-packages\\tensorflow_core\\python\\compat\\v2_compat.py:65: disable_resource_variables (from tensorflow.python.ops.variable_scope) is deprecated and will be removed in a future version.\n",
      "Instructions for updating:\n",
      "non-resource variables are not supported in the long term\n",
      "['batches.meta', 'data_batch_1', 'data_batch_2', 'data_batch_3', 'data_batch_4', 'data_batch_5', 'readme.html', 'test_batch']\n"
     ]
    }
   ],
   "source": [
    "import tensorflow.compat.v1 as tf\n",
    "tf.disable_v2_behavior()\n",
    "import os\n",
    "import pickle as pk\n",
    "import numpy as np\n",
    "\n",
    "CIFAR_DIR = '../../datasets/cifar-10-batches-py'\n",
    "dirs = os.listdir( CIFAR_DIR )\n",
    "print(dirs)"
   ]
  },
  {
   "cell_type": "code",
   "execution_count": 4,
   "metadata": {
    "collapsed": false
   },
   "outputs": [
    {
     "name": "stdout",
     "output_type": "stream",
     "text": [
      "(50000, 3072)\n",
      "(50000,)\n",
      "(10000, 3072)\n",
      "(10000,)\n"
     ]
    },
    {
     "data": {
      "text/plain": [
       "'\\nprint(batch_data)\\nprint(batch_lables)\\n'"
      ]
     },
     "execution_count": 4,
     "metadata": {},
     "output_type": "execute_result"
    }
   ],
   "source": [
    "def load_data(filename):\n",
    "    \"\"\"read data from data file\"\"\"\n",
    "    with open(filename,'rb') as f:\n",
    "        data = pk.load(f,encoding='iso-8859-1')\n",
    "        return (data['data'],data['labels'])\n",
    "\n",
    "class CifarData:\n",
    "    def __init__(self,filenames,need_shuffle):\n",
    "        all_data = []\n",
    "        all_labels = []\n",
    "        for filename in filenames:\n",
    "            data ,labels = load_data(filename)\n",
    "            all_data.append(data)\n",
    "            all_labels.append(labels)\n",
    "          \n",
    "        self._data = np.vstack(all_data)\n",
    "        self._data = self._data / 127.5 -1  #归一化\n",
    "        self._labels = np.hstack(all_labels)\n",
    "        print(self._data.shape)\n",
    "        print(self._labels.shape)\n",
    "        self._num_examples = self._data.shape[0]\n",
    "        self._need_shuffle = need_shuffle\n",
    "        self._indicator = 0\n",
    "        if self._need_shuffle:\n",
    "            self._shuffle_data()\n",
    "    \n",
    "    def _shuffle_data(self):\n",
    "        \"\"\"打乱数据集\"\"\"\n",
    "        p = np.random.permutation(self._num_examples)\n",
    "        self._data = self._data[p]\n",
    "        self._lable = self._labels[p]\n",
    "        \n",
    "    def next_batch(self,batch_size):\n",
    "        \"\"\" 随机取batch_size个训练样本  \"\"\"\n",
    "        end_indicator = self._indicator + batch_size\n",
    "        if end_indicator > self._num_examples:\n",
    "            if self._need_shuffle:\n",
    "                self._shuffle_data()\n",
    "                self._indicator = 0\n",
    "                end_indicator = self._indicator + batch_size\n",
    "            else:\n",
    "                raise Exception(\"have no more examples\")\n",
    "        if end_indicator > self._num_examples:\n",
    "            raise Exception(\"batch_size is larger than examples\")\n",
    "            \n",
    "        batch_data = self._data[self._indicator:end_indicator]\n",
    "        batch_lables = self._labels[self._indicator:end_indicator]\n",
    "        self._indicator = end_indicator\n",
    "        return batch_data , batch_lables\n",
    "\n",
    "\n",
    "train_filenames = [os.path.join(CIFAR_DIR,'data_batch_%d' %i) for i in range (1,6)]\n",
    "test_filenames = [os.path.join(CIFAR_DIR,'test_batch')]\n",
    "\n",
    "train_data = CifarData(train_filenames,True)\n",
    "tets_data = CifarData(test_filenames,True)\n",
    "#batch_data , batch_lables = train_data.next_batch(10)\n",
    "\n",
    "\"\"\"\n",
    "print(batch_data)\n",
    "print(batch_lables)\n",
    "\"\"\""
   ]
  },
  {
   "cell_type": "code",
   "execution_count": 6,
   "metadata": {
    "collapsed": false
   },
   "outputs": [],
   "source": [
    "\n",
    "tf.reset_default_graph()\n",
    "\n",
    "x = tf.placeholder(tf.float32,[None,3072])  #定义一个空的数组\n",
    "y = tf.placeholder(tf.int64,[None])\n",
    "\n",
    "#w:[3072*10]\n",
    "w = tf.get_variable('w',[x.get_shape()[-1],10],initializer=tf.random_normal_initializer(0,1))\n",
    "#[10,]\n",
    "b = tf.get_variable('b',[10], initializer=tf.constant_initializer(0.0))\n",
    "\n",
    "#Y_shape:[None,3072]*[3072*1]+{1,} = [None,1]+[1,]\n",
    "y_ = tf.matmul(x,w) + b #matmul做矩阵乘法 matrix multiply == np.dot()\n",
    "\n",
    "\"\"\"\n",
    "平方差损失函数\n",
    "p_y = tf.nn.softmax(y_) #返回的是样本属于各个类的概率值\n",
    "\n",
    "y_one_hot = tf.one_hot(y,10,dtype = tf.float32)\n",
    "\n",
    "loss = tf.reduce_mean(tf.square(y_one_hot - p_y )) \n",
    "\n",
    "\"\"\"\n",
    "loss = tf.losses.sparse_softmax_cross_entropy(labels =y,logits = y)\n",
    "#这个API:交叉熵损失函数函数 ，自行计算  softmax ,one_hot ,loss = ylog(y_)\n",
    "\n",
    "predict  = tf.argmax(y_ ,1) #返回y_每一行最大值的索引值(0表示列，1表示行)\n",
    "correct_predict = tf.equal(predict,y)\n",
    "\n",
    "accuracy = tf.reduce_mean(tf.cast(correct_predict,tf.float32))\n",
    "\n",
    "#定义一块名为train_op的区域，并在其中工作\n",
    "with tf.name_scope('train_op'): \n",
    "    train_op = tf.train.AdamOptimizer(1e-3).minimize(loss) #AdamOptimizer优化器的学习率是1e-3,来最小化loss函数\n",
    "    "
   ]
  },
  {
   "cell_type": "code",
   "execution_count": null,
   "metadata": {
    "collapsed": false
   },
   "outputs": [
    {
     "name": "stdout",
     "output_type": "stream",
     "text": [
      "[Train] Step: 500,Loss:0.18598,acc:0.05000\n"
     ]
    }
   ],
   "source": [
    "init = tf.global_variables_initializer()\n",
    "batch_size = 20\n",
    "train_steps = 10000\n",
    "test_steps = 100\n",
    "with tf.Session() as sess:\n",
    "    sess.run(init)\n",
    "    for i in range(train_steps):\n",
    "        batch_data , batch_labels = train_data.next_batch(batch_size)\n",
    "        loss_val,acc_val,_=sess.run(\n",
    "            [loss,accuracy,train_op],\n",
    "            feed_dict = {x:batch_data,\n",
    "                         y:batch_labels})\n",
    "        if (i+1) % 500  == 0:\n",
    "            print('[Train] Step: %d,Loss:%4.5f,acc:%4.5f'\n",
    "                  %(i+1,loss_val,acc_val))\n",
    "        \n",
    "        if (i+1) % 5000 == 0:\n",
    "            test_data = CifarData(test_filenames,False)\n",
    "            all_test_acc = []\n",
    "            for j in range(test_steps):\n",
    "                \n",
    "                test_batch_data , test_batch_labels  = test_data.next_batch(batch_size)\n",
    "                test_acc_val = sess.run([accurary],feed_dict={x:test_batch_data, y:test_batch_labels})\n",
    "                all_test_acc.append(test_acc_val)\n",
    "            \n",
    "            test_acc = np.mean(all_test_acc)\n",
    "            #print(\"[Test] Step: %d , Acc: %4.5f\" % (i+1,test_acc))\n",
    "                \n",
    "            \n",
    "       \n",
    "        "
   ]
  },
  {
   "cell_type": "code",
   "execution_count": null,
   "metadata": {
    "collapsed": true
   },
   "outputs": [],
   "source": []
  },
  {
   "cell_type": "code",
   "execution_count": null,
   "metadata": {
    "collapsed": true
   },
   "outputs": [],
   "source": []
  }
 ],
 "metadata": {
  "anaconda-cloud": {},
  "kernelspec": {
   "display_name": "Python [conda root]",
   "language": "python",
   "name": "conda-root-py"
  },
  "language_info": {
   "codemirror_mode": {
    "name": "ipython",
    "version": 3
   },
   "file_extension": ".py",
   "mimetype": "text/x-python",
   "name": "python",
   "nbconvert_exporter": "python",
   "pygments_lexer": "ipython3",
   "version": "3.5.2"
  }
 },
 "nbformat": 4,
 "nbformat_minor": 1
}
