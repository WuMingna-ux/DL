{
 "cells": [
  {
   "cell_type": "code",
   "execution_count": 29,
   "metadata": {
    "collapsed": false
   },
   "outputs": [
    {
     "name": "stdout",
     "output_type": "stream",
     "text": [
      "82\n"
     ]
    }
   ],
   "source": [
    "import tensorflow.compat.v1 as tf\n",
    "tf.disable_v2_behavior()\n",
    "import numpy as np\n",
    "import os \n",
    "import sys\n",
    "import math\n",
    "import pprint\n",
    "\n",
    "vocab_txt_path = '../../datasets/image_caption_data/results_20130124.token'\n",
    "output_vocab_path = '../../datasets/image_caption_data/vocab.txt'\n",
    "\n",
    "\n",
    "if not os.path.exists(output_vocab_path):\n",
    "    os.mkdir(output_vocab_path)\n",
    "     \n",
    "\n",
    "def count_vocab(filename):\n",
    "    with open(filename,\"r\",encoding=\"utf-8\") as f:\n",
    "        lines = f.readlines()\n",
    "    max_length_sentence = 0\n",
    "    length_dict = {}\n",
    "    vocab_dict = {}\n",
    "    for line in lines:\n",
    "        image_id,description = line.strip('\\r\\n').split('\\t')\n",
    "        words = description.strip(' ').split()\n",
    "        max_length_sentence = max(max_length_sentence,len(words))\n",
    "        length_dict.setdefault(len(words),0)\n",
    "        length_dict[len(words)] += 1\n",
    "        for word in words:\n",
    "            vocab_dict.setdefault(word,0)\n",
    "            vocab_dict[word] +=1\n",
    "    print(max_length_sentence)\n",
    "    #pprint.pprint(length_dict)\n",
    "    return vocab_dict\n",
    "\n",
    "vocab_dict = count_vocab(vocab_txt_path)\n",
    "sorted_vocab_dict = sorted(vocab_dict.items(),key= lambda d:d[1],reverse=True)\n",
    "\n",
    "with open(output_vocab_path, 'w',encoding='utf-8') as f:\n",
    "    f.write('<UNK>\\t10000000\\n')\n",
    "    for item in sorted_vocab_dict:\n",
    "        f.write('%s\\t%d\\n' % item)"
   ]
  },
  {
   "cell_type": "code",
   "execution_count": null,
   "metadata": {
    "collapsed": true
   },
   "outputs": [],
   "source": []
  },
  {
   "cell_type": "code",
   "execution_count": null,
   "metadata": {
    "collapsed": true
   },
   "outputs": [],
   "source": []
  }
 ],
 "metadata": {
  "anaconda-cloud": {},
  "kernelspec": {
   "display_name": "Python [default]",
   "language": "python",
   "name": "python3"
  },
  "language_info": {
   "codemirror_mode": {
    "name": "ipython",
    "version": 3
   },
   "file_extension": ".py",
   "mimetype": "text/x-python",
   "name": "python",
   "nbconvert_exporter": "python",
   "pygments_lexer": "ipython3",
   "version": "3.5.2"
  }
 },
 "nbformat": 4,
 "nbformat_minor": 1
}
