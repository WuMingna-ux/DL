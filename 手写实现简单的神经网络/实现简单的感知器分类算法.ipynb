{
 "cells": [
  {
   "cell_type": "code",
   "execution_count": 15,
   "metadata": {
    "collapsed": false
   },
   "outputs": [],
   "source": [
    "import numpy as np\n",
    "class Perceptron(object):\n",
    "    def __init__(self,eta=0.01,n_inter=10):\n",
    "        self.eta = eta\n",
    "        self.n_inter = n_inter\n",
    "    def fit(self,X,y):\n",
    "        self.w_ = np.zeros(1+X.shape[1])\n",
    "        self.erros_ = []\n",
    "        for _ in range(self.n_inter):\n",
    "            errors = 0\n",
    "            for xi,target in zip(X,y):\n",
    "                updata = self.eta*(target - self.predict(xi))\n",
    "                self.w_[1:]+=updata *xi\n",
    "                self.w_[0] += updata\n",
    "                errors += int(updata !=0)\n",
    "                self.erros_.append(errors)\n",
    "    def net_input(self,X):\n",
    "        return np.dot(X,self.w_[1:] + self.w_[0])\n",
    "           \n",
    "    def predict(self,X):\n",
    "        return np.where(self.net_input(X)>=0.0, 1, -1)"
   ]
  },
  {
   "cell_type": "code",
   "execution_count": 16,
   "metadata": {
    "collapsed": false
   },
   "outputs": [],
   "source": [
    "file=\"iris.csv\"\n",
    "import pandas as pd\n",
    "df = pd.read_csv(file,header = None)\n",
    "#df.head(10)"
   ]
  },
  {
   "cell_type": "code",
   "execution_count": 17,
   "metadata": {
    "collapsed": false
   },
   "outputs": [],
   "source": [
    "import matplotlib.pyplot as plt\n",
    "import numpy as np\n",
    "\n",
    "y =df.loc[0:100,4].values\n",
    "y = np.where( y ==\"Iris-setosa\",1,-1)\n",
    "\n",
    "X = df.iloc[0:100,[0,2]].values\n",
    "#plt.scatter(X[:50,0],X[:50,1],c=\"red\",marker='o',label=\"0:49\")\n",
    "#plt.scatter(X[50:100,0],X[50:100,1],c=\"blue\",marker='x',label='50:99')\n",
    "#plt.xlabel('X')\n",
    "#plt.ylabel('y')\n",
    "#plt.legend(loc='upper left')\n",
    "#plt.show()\n"
   ]
  },
  {
   "cell_type": "code",
   "execution_count": 18,
   "metadata": {
    "collapsed": true
   },
   "outputs": [],
   "source": [
    "ppn = Perceptron(eta = 0.1,n_inter=10)\n",
    "ppn.fit(X,y)"
   ]
  },
  {
   "cell_type": "code",
   "execution_count": 21,
   "metadata": {
    "collapsed": false
   },
   "outputs": [],
   "source": [
    "from matplotlib.colors import ListedColormap\n",
    "\n",
    "def plot_decision_regions(X,y,classifier,resolution = 0.02):\n",
    "    marks = ('s','x','o','v')\n",
    "    colors = ('red','blue','lightgreen','gray','cyan')\n",
    "    cmap = ListedColormap(colors[:len(np.unique(y))])\n",
    "    \n",
    "    x1_min,x1_max = X[:,0].min()-1,X[:,0].max()\n",
    "    x2_min,x2_max = X[:,1].min()-1,X[:,1].max()\n",
    "    \n",
    "    xx1,xx2 = np.meshgrid(np.arange(x1_min,x1_max,resolution),\n",
    "                         np.arange(x2_min,x2_max,resolution))\n",
    "    #print(np.arange(x1_min,x1_max,resolution).shape,type(xx1))\n",
    "    Z = classifier.predict(np.array([xx1.ravel(),xx2.ravel()]).T)\n",
    "    #print((np.array([xx1.ravel(),xx2.ravel()]).T).shape)\n",
    "    # print(Z.shape)\n",
    "    Z = Z.reshape(xx1.shape)\n",
    "    #print(Z.shape)\n",
    "    plt.contourf(xx1,xx2,Z,alpha=0.4,cmap=cmap)\n",
    "    plt.xlim(xx1.min(),xx1.max())\n",
    "    plt.ylim(xx2.min(),xx2.max())\n",
    "    plt.scatter(X[:50,0],X[:50,1],color='red',marker='o',label='setosa')         \n",
    "    plt.scatter(X[50:100,0],X[50:100,1],color='blue',marker='x',label='versicolor')\n",
    "    plt.xlabel(u'X',fontproperties='SimHei')\n",
    "    plt.ylabel(u'Y',fontproperties='SimHei')\n",
    "    plt.legend(loc='upper left')\n",
    "    plt.show()    \n",
    " "
   ]
  },
  {
   "cell_type": "code",
   "execution_count": 22,
   "metadata": {
    "collapsed": false
   },
   "outputs": [
    {
     "name": "stderr",
     "output_type": "stream",
     "text": [
      "D:\\Anaconda\\lib\\site-packages\\numpy\\ma\\core.py:6512: MaskedArrayFutureWarning: In the future the default for ma.minimum.reduce will be axis=0, not the current None, to match np.minimum.reduce. Explicitly pass 0 or None to silence this warning.\n",
      "  return self.reduce(a)\n",
      "D:\\Anaconda\\lib\\site-packages\\numpy\\ma\\core.py:6512: MaskedArrayFutureWarning: In the future the default for ma.maximum.reduce will be axis=0, not the current None, to match np.maximum.reduce. Explicitly pass 0 or None to silence this warning.\n",
      "  return self.reduce(a)\n"
     ]
    },
    {
     "data": {
      "image/png": "[encoded data removed]",
      "text/plain": [
       "<matplotlib.figure.Figure at 0x8d2b9a32e8>"
      ]
     },
     "metadata": {},
     "output_type": "display_data"
    }
   ],
   "source": [
    "plot_decision_regions(X,y,ppn,resolution = 0.02)"
   ]
  },
  {
   "cell_type": "code",
   "execution_count": null,
   "metadata": {
    "collapsed": true
   },
   "outputs": [],
   "source": []
  },
  {
   "cell_type": "code",
   "execution_count": null,
   "metadata": {
    "collapsed": false
   },
   "outputs": [],
   "source": []
  },
  {
   "cell_type": "code",
   "execution_count": null,
   "metadata": {
    "collapsed": true
   },
   "outputs": [],
   "source": []
  }
 ],
 "metadata": {
  "anaconda-cloud": {},
  "kernelspec": {
   "display_name": "Python [conda root]",
   "language": "python",
   "name": "conda-root-py"
  },
  "language_info": {
   "codemirror_mode": {
    "name": "ipython",
    "version": 3
   },
   "file_extension": ".py",
   "mimetype": "text/x-python",
   "name": "python",
   "nbconvert_exporter": "python",
   "pygments_lexer": "ipython3",
   "version": "3.5.2"
  }
 },
 "nbformat": 4,
 "nbformat_minor": 1
}
