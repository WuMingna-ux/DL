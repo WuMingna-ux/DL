{
 "cells": [
  {
   "cell_type": "code",
   "execution_count": 2,
   "metadata": {
    "collapsed": false
   },
   "outputs": [],
   "source": [
    "import sys\n",
    "import os\n",
    "import jieba\n",
    "\n",
    "train_file = '../../datasets/text_classification_data/cnews.train.txt'\n",
    "test_file = '../../datasets/text_classification_data/cnews.test.txt'\n",
    "val_file = '../../datasets/text_classification_data/cnews.val.txt'\n",
    "\n",
    "seg_train_file = '../../datasets/text_classification_data/cnews.seg_train.txt'\n",
    "seg_test_file = '../../datasets/text_classification_data/cnews.seg_test.txt'\n",
    "seg_val_file = '../../datasets/text_classification_data/cnews.seg_val.txt'\n",
    "\n",
    "vacab_file = '../../datasets/text_classification_data/cnews.vocab.txt'\n",
    "lable_file = '../../datasets/text_classification_data/cnews.lable.txt'"
   ]
  },
  {
   "cell_type": "code",
   "execution_count": 5,
   "metadata": {
    "collapsed": false
   },
   "outputs": [
    {
     "name": "stdout",
     "output_type": "stream",
     "text": [
      "黄蜂 vs 湖人 首发 ： 科比 带伤 战 保罗   加索尔 救赎 之战   新浪 体育讯 北京 时间 4 月 27 日 ， NBA 季后赛 首轮 洛杉矶 湖人 主场 迎战 新奥尔良 黄蜂 ， 此前 的 比赛 中 ， 双方 战成 2 - 2 平 ， 因此 本场 比赛 对于 两支 球队 来说 都 非常 重要 ， 赛前 双方 也 公布 了 首发 阵容 ： 湖人队 ： 费舍尔 、 科比 、 阿泰斯特 、 加索尔 、 拜纳姆 黄蜂队 ： 保罗 、 贝里 内利 、 阿里 扎 、 兰德 里 、 奥卡福 [ 新浪 NBA 官方 微博 ] [ 新浪 NBA 湖人 新闻动态 微博 ] [ 新浪 NBA 专题 ] [ 黄蜂 vs 湖人 图文 直播室 ] ( 新浪 体育 )\n"
     ]
    }
   ],
   "source": [
    "#jieba的使用举例说明\n",
    "with open(val_file, 'r',encoding='utf-8') as f:\n",
    "    line = f.readlines()\n",
    "label, content = line[0].strip('\\n').split('\\t')\n",
    "#print(content)\n",
    "word = jieba.cut(content)\n",
    "#print ('/'.join(word))\n",
    "print(' '.join(word))"
   ]
  },
  {
   "cell_type": "code",
   "execution_count": 3,
   "metadata": {
    "collapsed": false
   },
   "outputs": [
    {
     "name": "stderr",
     "output_type": "stream",
     "text": [
      "Building prefix dict from the default dictionary ...\n",
      "Loading model from cache C:\\Users\\wumingna\\AppData\\Local\\Temp\\jieba.cache\n",
      "Loading model cost 4.008 seconds.\n",
      "Prefix dict has been built succesfully.\n"
     ]
    },
    {
     "ename": "TypeError",
     "evalue": "write() takes no keyword arguments",
     "output_type": "error",
     "traceback": [
      "\u001b[0;31m---------------------------------------------------------------------------\u001b[0m",
      "\u001b[0;31mTypeError\u001b[0m                                 Traceback (most recent call last)",
      "\u001b[0;32m<ipython-input-3-8b332a3bcf0d>\u001b[0m in \u001b[0;36m<module>\u001b[0;34m()\u001b[0m\n\u001b[1;32m     20\u001b[0m         \u001b[0mf\u001b[0m\u001b[1;33m.\u001b[0m\u001b[0mwrite\u001b[0m\u001b[1;33m(\u001b[0m\u001b[0moutline\u001b[0m\u001b[1;33m,\u001b[0m\u001b[0mencoding\u001b[0m\u001b[1;33m=\u001b[0m\u001b[1;34m'utf-8'\u001b[0m\u001b[1;33m)\u001b[0m\u001b[1;33m\u001b[0m\u001b[0m\n\u001b[1;32m     21\u001b[0m \u001b[1;33m\u001b[0m\u001b[0m\n\u001b[0;32m---> 22\u001b[0;31m \u001b[0mgenerate_seg_file\u001b[0m\u001b[1;33m(\u001b[0m\u001b[0mtrain_file\u001b[0m\u001b[1;33m,\u001b[0m\u001b[0mseg_train_file\u001b[0m\u001b[1;33m)\u001b[0m\u001b[1;33m\u001b[0m\u001b[0m\n\u001b[0m\u001b[1;32m     23\u001b[0m \u001b[0mgenerate_seg_file\u001b[0m\u001b[1;33m(\u001b[0m\u001b[0mtest_file\u001b[0m\u001b[1;33m,\u001b[0m\u001b[0mseg_test_file\u001b[0m\u001b[1;33m)\u001b[0m\u001b[1;33m\u001b[0m\u001b[0m\n\u001b[1;32m     24\u001b[0m \u001b[0mgenerate_seg_file\u001b[0m\u001b[1;33m(\u001b[0m\u001b[0mval_file\u001b[0m\u001b[1;33m,\u001b[0m\u001b[0mseg_val_file\u001b[0m\u001b[1;33m)\u001b[0m\u001b[1;33m\u001b[0m\u001b[0m\n",
      "\u001b[0;32m<ipython-input-3-8b332a3bcf0d>\u001b[0m in \u001b[0;36mgenerate_seg_file\u001b[0;34m(input_file, output_file)\u001b[0m\n\u001b[1;32m     18\u001b[0m                     \u001b[0mwords_content\u001b[0m \u001b[1;33m+=\u001b[0m \u001b[0mword\u001b[0m \u001b[1;33m+\u001b[0m \u001b[1;34m' '\u001b[0m\u001b[1;33m\u001b[0m\u001b[0m\n\u001b[1;32m     19\u001b[0m         \u001b[0moutline\u001b[0m \u001b[1;33m=\u001b[0m \u001b[1;34m'%s\\t%s'\u001b[0m\u001b[1;33m%\u001b[0m\u001b[1;33m(\u001b[0m\u001b[0mlabel\u001b[0m\u001b[1;33m,\u001b[0m\u001b[0mwords_content\u001b[0m\u001b[1;33m)\u001b[0m\u001b[1;33m\u001b[0m\u001b[0m\n\u001b[0;32m---> 20\u001b[0;31m         \u001b[0mf\u001b[0m\u001b[1;33m.\u001b[0m\u001b[0mwrite\u001b[0m\u001b[1;33m(\u001b[0m\u001b[0moutline\u001b[0m\u001b[1;33m,\u001b[0m\u001b[0mencoding\u001b[0m\u001b[1;33m=\u001b[0m\u001b[1;34m'utf-8'\u001b[0m\u001b[1;33m)\u001b[0m\u001b[1;33m\u001b[0m\u001b[0m\n\u001b[0m\u001b[1;32m     21\u001b[0m \u001b[1;33m\u001b[0m\u001b[0m\n\u001b[1;32m     22\u001b[0m \u001b[0mgenerate_seg_file\u001b[0m\u001b[1;33m(\u001b[0m\u001b[0mtrain_file\u001b[0m\u001b[1;33m,\u001b[0m\u001b[0mseg_train_file\u001b[0m\u001b[1;33m)\u001b[0m\u001b[1;33m\u001b[0m\u001b[0m\n",
      "\u001b[0;31mTypeError\u001b[0m: write() takes no keyword arguments"
     ]
    }
   ],
   "source": [
    "def generate_seg_file(input_file , output_file):\n",
    "    '''\n",
    "    生成分词之后的文本数据\n",
    "    :param input_file: 待分词的输入文件\n",
    "    :param output_seg_file:  已经分词完毕的文本\n",
    "    :return:\n",
    "    '''\n",
    "    with open(input_file , 'r', encoding='utf-8') as f:\n",
    "        lines = f.readlines()\n",
    "    with open(output_file,'w') as f:\n",
    "        for line in lines:\n",
    "            label,content = line.strip('\\n').split('\\t')\n",
    "            words = jieba.cut(content)\n",
    "            words_content = ''\n",
    "            for word in words:\n",
    "                word = word.strip(' ')\n",
    "                if word != ' ':\n",
    "                    words_content += word + ' '\n",
    "        outline = '%s\\t%s'%(label,words_content)\n",
    "        f.write(outline,encoding='utf-8')      \n",
    "\n",
    "generate_seg_file(train_file,seg_train_file)\n",
    "generate_seg_file(test_file,seg_test_file)\n",
    "generate_seg_file(val_file,seg_val_file)"
   ]
  },
  {
   "cell_type": "code",
   "execution_count": null,
   "metadata": {
    "collapsed": false
   },
   "outputs": [],
   "source": [
    "def generate_seg_vocab_file(input_file,output_file):\n",
    "    '''\n",
    "    function: 生成词语表\n",
    "    :param input_seg_file: 已经分词的文件\n",
    "    :param output_file: 输出的词表 word1 frequent1 \\n word2 frequent2 ……\n",
    "    :return:\n",
    "    '''\n",
    "    with open(input_file,'r',encoding = 'utf-8') as f:\n",
    "        lines = f.readlines()\n",
    "    word_dict={}\n",
    "    for line in lines:\n",
    "        label,content = line.strip('\\r\\n').split('\\t')\n",
    "        for word in content.split(' '):\n",
    "            word_dict.setdefault(word,0)\n",
    "            word_dict[word] += 1\n",
    "        # dict.item() 将字典转化为列表\n",
    "        # 详情参考：http://www.runoob.com/python/att-dictionary-items.html\n",
    "        word_item = word_dict.item() #返回元组数组， \n",
    "        # 现在sorted_word_dict的格式为： [(word, frequency).....(word, frequency)]，按照d[1],也就是frequency的大小逆序排序\n",
    "    sorted_word_dict = sorted(word_item,key=lambda d :d[1],reverse=True)\n",
    "    with open(output_file,'w') as f:\n",
    "        f.write<'<UNK>\\t10000\\n'>\n",
    "        for item in sorted_word_dict:\n",
    "            f.write('%s\\t%s\\n',%(item[0].encode('utf-8'),item[1].encode(uft-8)))"
   ]
  },
  {
   "cell_type": "code",
   "execution_count": null,
   "metadata": {
    "collapsed": true
   },
   "outputs": [],
   "source": [
    "def generate_category_dict(input_file,output_file):\n",
    "    '''\n",
    "    function:生成label表\n",
    "    :param input_seg_file: 已经分词的文件\n",
    "    :param output_vocab_file: label表 \n",
    "    :return:\n",
    "    '''\n",
    "    with open(input_file,'r',encoding = 'utf-8') as f:\n",
    "        lines = f.readlines()\n",
    "    labels_dict={}\n",
    "    for line in lines:\n",
    "        label,content = line.strip('\\n').split('\\t')\n",
    "        labels_dict.setdefault(label,0)\n",
    "        labels_dict[label] += 1\n",
    "    labels_num = len(labels_dict)\n",
    "    with open(output_file 'w') as f:\n",
    "        for label in labels_dict:\n",
    "            line = '%s\\n' % label #遍历字典，默认返回的是key值\n",
    "            f.write(line)"
   ]
  },
  {
   "cell_type": "code",
   "execution_count": 13,
   "metadata": {
    "collapsed": false
   },
   "outputs": [
    {
     "name": "stdout",
     "output_type": "stream",
     "text": [
      "b\n",
      "a\n",
      "2\n"
     ]
    }
   ],
   "source": [
    "\n"
   ]
  }
 ],
 "metadata": {
  "anaconda-cloud": {},
  "kernelspec": {
   "display_name": "Python [conda root]",
   "language": "python",
   "name": "conda-root-py"
  },
  "language_info": {
   "codemirror_mode": {
    "name": "ipython",
    "version": 3
   },
   "file_extension": ".py",
   "mimetype": "text/x-python",
   "name": "python",
   "nbconvert_exporter": "python",
   "pygments_lexer": "ipython3",
   "version": "3.5.2"
  }
 },
 "nbformat": 4,
 "nbformat_minor": 1
}
